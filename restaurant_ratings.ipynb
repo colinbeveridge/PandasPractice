{
 "cells": [
  {
   "cell_type": "code",
   "execution_count": 2,
   "metadata": {},
   "outputs": [],
   "source": [
    "import pandas as pd\n",
    "folder = 'KaggleFiles/'"
   ]
  },
  {
   "cell_type": "code",
   "execution_count": 7,
   "metadata": {},
   "outputs": [],
   "source": [
    "ratings = pd.read_csv(folder+'ratings.csv')\n",
    "cuisines = pd.read_csv(folder+'chefmozcuisine.csv')\n",
    "parking = pd.read_csv(folder+'chefmozparking.csv')\n",
    "users = pd.read_csv(folder+'userprofile.csv')\n",
    "ratings_final = pd.read_csv(folder+'rating_final.csv')"
   ]
  },
  {
   "cell_type": "markdown",
   "metadata": {},
   "source": [
    "Figure out columns in each dataset."
   ]
  },
  {
   "cell_type": "code",
   "execution_count": 9,
   "metadata": {},
   "outputs": [
    {
     "name": "stdout",
     "output_type": "stream",
     "text": [
      "Ratings\n",
      "<class 'pandas.core.frame.DataFrame'>\n",
      "RangeIndex: 981756 entries, 0 to 981755\n",
      "Data columns (total 3 columns):\n",
      " #   Column   Non-Null Count   Dtype\n",
      "---  ------   --------------   -----\n",
      " 0   book_id  981756 non-null  int64\n",
      " 1   user_id  981756 non-null  int64\n",
      " 2   rating   981756 non-null  int64\n",
      "dtypes: int64(3)\n",
      "memory usage: 22.5 MB\n",
      "Cuisines\n",
      "<class 'pandas.core.frame.DataFrame'>\n",
      "RangeIndex: 916 entries, 0 to 915\n",
      "Data columns (total 2 columns):\n",
      " #   Column    Non-Null Count  Dtype \n",
      "---  ------    --------------  ----- \n",
      " 0   placeID   916 non-null    int64 \n",
      " 1   Rcuisine  916 non-null    object\n",
      "dtypes: int64(1), object(1)\n",
      "memory usage: 10.8+ KB\n",
      "Parking\n",
      "<class 'pandas.core.frame.DataFrame'>\n",
      "RangeIndex: 702 entries, 0 to 701\n",
      "Data columns (total 2 columns):\n",
      " #   Column       Non-Null Count  Dtype \n",
      "---  ------       --------------  ----- \n",
      " 0   placeID      702 non-null    int64 \n",
      " 1   parking_lot  702 non-null    object\n",
      "dtypes: int64(1), object(1)\n",
      "memory usage: 8.3+ KB\n",
      "Users\n",
      "<class 'pandas.core.frame.DataFrame'>\n",
      "RangeIndex: 138 entries, 0 to 137\n",
      "Data columns (total 19 columns):\n",
      " #   Column            Non-Null Count  Dtype  \n",
      "---  ------            --------------  -----  \n",
      " 0   userID            138 non-null    object \n",
      " 1   latitude          138 non-null    float64\n",
      " 2   longitude         138 non-null    float64\n",
      " 3   smoker            138 non-null    object \n",
      " 4   drink_level       138 non-null    object \n",
      " 5   dress_preference  138 non-null    object \n",
      " 6   ambience          138 non-null    object \n",
      " 7   transport         138 non-null    object \n",
      " 8   marital_status    138 non-null    object \n",
      " 9   hijos             138 non-null    object \n",
      " 10  birth_year        138 non-null    int64  \n",
      " 11  interest          138 non-null    object \n",
      " 12  personality       138 non-null    object \n",
      " 13  religion          138 non-null    object \n",
      " 14  activity          138 non-null    object \n",
      " 15  color             138 non-null    object \n",
      " 16  weight            138 non-null    int64  \n",
      " 17  budget            138 non-null    object \n",
      " 18  height            138 non-null    float64\n",
      "dtypes: float64(3), int64(2), object(14)\n",
      "memory usage: 13.0+ KB\n",
      "Rating Final\n",
      "<class 'pandas.core.frame.DataFrame'>\n",
      "RangeIndex: 1161 entries, 0 to 1160\n",
      "Data columns (total 5 columns):\n",
      " #   Column          Non-Null Count  Dtype \n",
      "---  ------          --------------  ----- \n",
      " 0   userID          1161 non-null   object\n",
      " 1   placeID         1161 non-null   int64 \n",
      " 2   rating          1161 non-null   int64 \n",
      " 3   food_rating     1161 non-null   int64 \n",
      " 4   service_rating  1161 non-null   int64 \n",
      "dtypes: int64(4), object(1)\n",
      "memory usage: 40.9+ KB\n"
     ]
    }
   ],
   "source": [
    "print('Ratings')\n",
    "ratings.info()\n",
    "print('Cuisines')\n",
    "cuisines.info()\n",
    "print('Parking')\n",
    "parking.info()\n",
    "print('Users')\n",
    "users.info()\n",
    "print('Rating Final')\n",
    "ratings_final.info()\n",
    "print(ratings_final[ratings_final.])\n"
   ]
  },
  {
   "cell_type": "markdown",
   "metadata": {},
   "source": [
    "Merge Cuisines to rating final"
   ]
  },
  {
   "cell_type": "code",
   "execution_count": 10,
   "metadata": {},
   "outputs": [
    {
     "name": "stdout",
     "output_type": "stream",
     "text": [
      "<class 'pandas.core.frame.DataFrame'>\n",
      "Int64Index: 1043 entries, 0 to 1042\n",
      "Data columns (total 6 columns):\n",
      " #   Column          Non-Null Count  Dtype \n",
      "---  ------          --------------  ----- \n",
      " 0   userID          1043 non-null   object\n",
      " 1   placeID         1043 non-null   int64 \n",
      " 2   rating          1043 non-null   int64 \n",
      " 3   food_rating     1043 non-null   int64 \n",
      " 4   service_rating  1043 non-null   int64 \n",
      " 5   Rcuisine        1043 non-null   object\n",
      "dtypes: int64(4), object(2)\n",
      "memory usage: 48.9+ KB\n"
     ]
    }
   ],
   "source": [
    "merged_ratings_cuisine = ratings_final.merge(cuisines,how='inner',on='placeID')\n",
    "merged_ratings_cuisine.info()"
   ]
  },
  {
   "cell_type": "markdown",
   "metadata": {},
   "source": [
    "Now take merged table and get all the stuff...\n",
    "average rating, average food rating, average service rating, minimum food rating, minimum service rating, maximum service rating"
   ]
  },
  {
   "cell_type": "code",
   "execution_count": 14,
   "metadata": {},
   "outputs": [
    {
     "name": "stdout",
     "output_type": "stream",
     "text": [
      "        rating  food_rating  service_rating\n",
      "max        NaN          NaN             2.0\n",
      "median     1.0          NaN             NaN\n",
      "min        NaN          0.0             0.0\n"
     ]
    }
   ],
   "source": [
    "aggregates = merged_ratings_cuisine.agg({'rating':['median'],'food_rating':['min'],'service_rating':['min','max']})\n",
    "print(aggregates)"
   ]
  },
  {
   "cell_type": "markdown",
   "metadata": {},
   "source": [
    "Payment methods preferred by social drinkers"
   ]
  },
  {
   "cell_type": "code",
   "execution_count": 23,
   "metadata": {},
   "outputs": [
    {
     "name": "stdout",
     "output_type": "stream",
     "text": [
      "Index(['userID', 'Upayment'], dtype='object')\n",
      "abstemious        51\n",
      "casual drinker    47\n",
      "social drinker    40\n",
      "Name: drink_level, dtype: int64\n"
     ]
    },
    {
     "data": {
      "text/html": [
       "<div>\n",
       "<style scoped>\n",
       "    .dataframe tbody tr th:only-of-type {\n",
       "        vertical-align: middle;\n",
       "    }\n",
       "\n",
       "    .dataframe tbody tr th {\n",
       "        vertical-align: top;\n",
       "    }\n",
       "\n",
       "    .dataframe thead th {\n",
       "        text-align: right;\n",
       "    }\n",
       "</style>\n",
       "<table border=\"1\" class=\"dataframe\">\n",
       "  <thead>\n",
       "    <tr style=\"text-align: right;\">\n",
       "      <th></th>\n",
       "      <th>count</th>\n",
       "      <th>unique</th>\n",
       "      <th>top</th>\n",
       "      <th>freq</th>\n",
       "    </tr>\n",
       "    <tr>\n",
       "      <th>drink_level</th>\n",
       "      <th></th>\n",
       "      <th></th>\n",
       "      <th></th>\n",
       "      <th></th>\n",
       "    </tr>\n",
       "  </thead>\n",
       "  <tbody>\n",
       "    <tr>\n",
       "      <th>abstemious</th>\n",
       "      <td>63</td>\n",
       "      <td>5</td>\n",
       "      <td>cash</td>\n",
       "      <td>47</td>\n",
       "    </tr>\n",
       "    <tr>\n",
       "      <th>casual drinker</th>\n",
       "      <td>58</td>\n",
       "      <td>4</td>\n",
       "      <td>cash</td>\n",
       "      <td>46</td>\n",
       "    </tr>\n",
       "    <tr>\n",
       "      <th>social drinker</th>\n",
       "      <td>56</td>\n",
       "      <td>4</td>\n",
       "      <td>cash</td>\n",
       "      <td>38</td>\n",
       "    </tr>\n",
       "  </tbody>\n",
       "</table>\n",
       "</div>"
      ],
      "text/plain": [
       "               count unique   top freq\n",
       "drink_level                           \n",
       "abstemious        63      5  cash   47\n",
       "casual drinker    58      4  cash   46\n",
       "social drinker    56      4  cash   38"
      ]
     },
     "execution_count": 23,
     "metadata": {},
     "output_type": "execute_result"
    }
   ],
   "source": [
    "userpayment = pd.read_csv(folder+'userpayment.csv')\n",
    "userprofile = pd.read_csv(folder+'userprofile.csv')\n",
    "print(userpayment.columns)\n",
    "print(userprofile['drink_level'].value_counts())\n",
    "\n",
    "# find payment methods of socail drinkers\n",
    "payment_profile_merged = userprofile.merge(userpayment,how='inner',on='userID')\n",
    "payment_profile_merged.groupby('drink_level')['Upayment'].describe()"
   ]
  },
  {
   "cell_type": "markdown",
   "metadata": {},
   "source": [
    "Cuisines preferred by eco-friendly users?"
   ]
  },
  {
   "cell_type": "code",
   "execution_count": 34,
   "metadata": {},
   "outputs": [
    {
     "name": "stdout",
     "output_type": "stream",
     "text": [
      "<class 'pandas.core.frame.DataFrame'>\n",
      "RangeIndex: 138 entries, 0 to 137\n",
      "Data columns (total 19 columns):\n",
      " #   Column            Non-Null Count  Dtype  \n",
      "---  ------            --------------  -----  \n",
      " 0   userID            138 non-null    object \n",
      " 1   latitude          138 non-null    float64\n",
      " 2   longitude         138 non-null    float64\n",
      " 3   smoker            138 non-null    object \n",
      " 4   drink_level       138 non-null    object \n",
      " 5   dress_preference  138 non-null    object \n",
      " 6   ambience          138 non-null    object \n",
      " 7   transport         138 non-null    object \n",
      " 8   marital_status    138 non-null    object \n",
      " 9   hijos             138 non-null    object \n",
      " 10  birth_year        138 non-null    int64  \n",
      " 11  interest          138 non-null    object \n",
      " 12  personality       138 non-null    object \n",
      " 13  religion          138 non-null    object \n",
      " 14  activity          138 non-null    object \n",
      " 15  color             138 non-null    object \n",
      " 16  weight            138 non-null    int64  \n",
      " 17  budget            138 non-null    object \n",
      " 18  height            138 non-null    float64\n",
      "dtypes: float64(3), int64(2), object(14)\n",
      "memory usage: 13.0+ KB\n",
      "<class 'pandas.core.frame.DataFrame'>\n",
      "RangeIndex: 177 entries, 0 to 176\n",
      "Data columns (total 2 columns):\n",
      " #   Column    Non-Null Count  Dtype \n",
      "---  ------    --------------  ----- \n",
      " 0   userID    177 non-null    object\n",
      " 1   Upayment  177 non-null    object\n",
      "dtypes: object(2)\n",
      "memory usage: 1.4+ KB\n",
      "<class 'pandas.core.frame.DataFrame'>\n",
      "RangeIndex: 330 entries, 0 to 329\n",
      "Data columns (total 2 columns):\n",
      " #   Column    Non-Null Count  Dtype \n",
      "---  ------    --------------  ----- \n",
      " 0   userID    330 non-null    object\n",
      " 1   Rcuisine  330 non-null    object\n",
      "dtypes: object(2)\n",
      "memory usage: 2.6+ KB\n",
      "variety         50\n",
      "technology      36\n",
      "none            30\n",
      "eco-friendly    16\n",
      "retro            6\n",
      "Name: interest, dtype: int64\n"
     ]
    },
    {
     "data": {
      "text/html": [
       "<div>\n",
       "<style scoped>\n",
       "    .dataframe tbody tr th:only-of-type {\n",
       "        vertical-align: middle;\n",
       "    }\n",
       "\n",
       "    .dataframe tbody tr th {\n",
       "        vertical-align: top;\n",
       "    }\n",
       "\n",
       "    .dataframe thead th {\n",
       "        text-align: right;\n",
       "    }\n",
       "</style>\n",
       "<table border=\"1\" class=\"dataframe\">\n",
       "  <thead>\n",
       "    <tr style=\"text-align: right;\">\n",
       "      <th></th>\n",
       "      <th>count</th>\n",
       "      <th>unique</th>\n",
       "      <th>top</th>\n",
       "      <th>freq</th>\n",
       "    </tr>\n",
       "    <tr>\n",
       "      <th>interest</th>\n",
       "      <th></th>\n",
       "      <th></th>\n",
       "      <th></th>\n",
       "      <th></th>\n",
       "    </tr>\n",
       "  </thead>\n",
       "  <tbody>\n",
       "    <tr>\n",
       "      <th>eco-friendly</th>\n",
       "      <td>44</td>\n",
       "      <td>29</td>\n",
       "      <td>Mexican</td>\n",
       "      <td>12</td>\n",
       "    </tr>\n",
       "    <tr>\n",
       "      <th>none</th>\n",
       "      <td>34</td>\n",
       "      <td>11</td>\n",
       "      <td>Mexican</td>\n",
       "      <td>19</td>\n",
       "    </tr>\n",
       "    <tr>\n",
       "      <th>retro</th>\n",
       "      <td>6</td>\n",
       "      <td>6</td>\n",
       "      <td>American</td>\n",
       "      <td>1</td>\n",
       "    </tr>\n",
       "    <tr>\n",
       "      <th>technology</th>\n",
       "      <td>77</td>\n",
       "      <td>30</td>\n",
       "      <td>Mexican</td>\n",
       "      <td>29</td>\n",
       "    </tr>\n",
       "    <tr>\n",
       "      <th>variety</th>\n",
       "      <td>169</td>\n",
       "      <td>103</td>\n",
       "      <td>Mexican</td>\n",
       "      <td>36</td>\n",
       "    </tr>\n",
       "  </tbody>\n",
       "</table>\n",
       "</div>"
      ],
      "text/plain": [
       "             count unique       top freq\n",
       "interest                                \n",
       "eco-friendly    44     29   Mexican   12\n",
       "none            34     11   Mexican   19\n",
       "retro            6      6  American    1\n",
       "technology      77     30   Mexican   29\n",
       "variety        169    103   Mexican   36"
      ]
     },
     "execution_count": 34,
     "metadata": {},
     "output_type": "execute_result"
    }
   ],
   "source": [
    "userprofile.info()\n",
    "userpayment.info()\n",
    "usercuisine = pd.read_csv(folder+'usercuisine.csv')\n",
    "usercuisine.info()\n",
    "print(userprofile.interest.value_counts())\n",
    "\n",
    "profile_cuisine_merged = userprofile.merge(usercuisine,how='inner',on='userID')\n",
    "profile_cuisine_merged.groupby('interest')['Rcuisine'].describe()"
   ]
  }
 ],
 "metadata": {
  "interpreter": {
   "hash": "23307798908c8a9e946608b3e939b3bcebc8e8621f7a89d72990d9b805e549ed"
  },
  "kernelspec": {
   "display_name": "Python 3.7.4 32-bit",
   "language": "python",
   "name": "python3"
  },
  "language_info": {
   "codemirror_mode": {
    "name": "ipython",
    "version": 3
   },
   "file_extension": ".py",
   "mimetype": "text/x-python",
   "name": "python",
   "nbconvert_exporter": "python",
   "pygments_lexer": "ipython3",
   "version": "3.7.4"
  },
  "orig_nbformat": 4
 },
 "nbformat": 4,
 "nbformat_minor": 2
}
