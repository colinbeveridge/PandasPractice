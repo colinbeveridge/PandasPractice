{
 "cells": [
  {
   "cell_type": "code",
   "execution_count": 65,
   "metadata": {},
   "outputs": [
    {
     "name": "stdout",
     "output_type": "stream",
     "text": [
      "<class 'pandas.core.frame.DataFrame'>\n",
      "RangeIndex: 45716 entries, 0 to 45715\n",
      "Data columns (total 10 columns):\n",
      " #   Column       Non-Null Count  Dtype  \n",
      "---  ------       --------------  -----  \n",
      " 0   name         45716 non-null  object \n",
      " 1   id           45716 non-null  int64  \n",
      " 2   nametype     45716 non-null  object \n",
      " 3   recclass     45716 non-null  object \n",
      " 4   mass (g)     45585 non-null  object \n",
      " 5   fall         45716 non-null  object \n",
      " 6   year         45425 non-null  object \n",
      " 7   reclat       38401 non-null  float64\n",
      " 8   reclong      38401 non-null  float64\n",
      " 9   GeoLocation  38401 non-null  object \n",
      "dtypes: float64(2), int64(1), object(7)\n",
      "memory usage: 2.3+ MB\n"
     ]
    }
   ],
   "source": [
    "import pandas as pd\n",
    "import datetime as dt\n",
    "folder = 'KaggleFiles/'\n",
    "file = 'Meteorite_Landings_forexcel.csv'\n",
    "\n",
    "landings = pd.read_csv(folder+file)\n",
    "landings.info()\n"
   ]
  },
  {
   "cell_type": "markdown",
   "metadata": {},
   "source": [
    "Remove nametype field:"
   ]
  },
  {
   "cell_type": "code",
   "execution_count": 66,
   "metadata": {},
   "outputs": [
    {
     "name": "stdout",
     "output_type": "stream",
     "text": [
      "<class 'pandas.core.frame.DataFrame'>\n",
      "RangeIndex: 45716 entries, 0 to 45715\n",
      "Data columns (total 9 columns):\n",
      " #   Column       Non-Null Count  Dtype  \n",
      "---  ------       --------------  -----  \n",
      " 0   name         45716 non-null  object \n",
      " 1   id           45716 non-null  int64  \n",
      " 2   recclass     45716 non-null  object \n",
      " 3   mass (g)     45585 non-null  object \n",
      " 4   fall         45716 non-null  object \n",
      " 5   year         45425 non-null  object \n",
      " 6   reclat       38401 non-null  float64\n",
      " 7   reclong      38401 non-null  float64\n",
      " 8   GeoLocation  38401 non-null  object \n",
      "dtypes: float64(2), int64(1), object(6)\n",
      "memory usage: 2.1+ MB\n"
     ]
    }
   ],
   "source": [
    "landings.drop('nametype',inplace=True,axis=1)\n",
    "landings.info()"
   ]
  },
  {
   "cell_type": "markdown",
   "metadata": {},
   "source": [
    "Make 0 default for no mass"
   ]
  },
  {
   "cell_type": "code",
   "execution_count": 67,
   "metadata": {},
   "outputs": [
    {
     "data": {
      "text/html": [
       "<div>\n",
       "<style scoped>\n",
       "    .dataframe tbody tr th:only-of-type {\n",
       "        vertical-align: middle;\n",
       "    }\n",
       "\n",
       "    .dataframe tbody tr th {\n",
       "        vertical-align: top;\n",
       "    }\n",
       "\n",
       "    .dataframe thead th {\n",
       "        text-align: right;\n",
       "    }\n",
       "</style>\n",
       "<table border=\"1\" class=\"dataframe\">\n",
       "  <thead>\n",
       "    <tr style=\"text-align: right;\">\n",
       "      <th></th>\n",
       "      <th>name</th>\n",
       "      <th>id</th>\n",
       "      <th>recclass</th>\n",
       "      <th>mass (g)</th>\n",
       "      <th>fall</th>\n",
       "      <th>year</th>\n",
       "      <th>reclat</th>\n",
       "      <th>reclong</th>\n",
       "      <th>GeoLocation</th>\n",
       "    </tr>\n",
       "  </thead>\n",
       "  <tbody>\n",
       "  </tbody>\n",
       "</table>\n",
       "</div>"
      ],
      "text/plain": [
       "Empty DataFrame\n",
       "Columns: [name, id, recclass, mass (g), fall, year, reclat, reclong, GeoLocation]\n",
       "Index: []"
      ]
     },
     "execution_count": 67,
     "metadata": {},
     "output_type": "execute_result"
    }
   ],
   "source": [
    "landings[landings['mass (g)'].isna()]\n",
    "landings['mass (g)'].fillna(0,inplace=True)\n",
    "landings[landings['mass (g)'].isna()]"
   ]
  },
  {
   "cell_type": "markdown",
   "metadata": {},
   "source": [
    "Store data from each decade in its own data sheet in Excel"
   ]
  },
  {
   "cell_type": "code",
   "execution_count": 68,
   "metadata": {},
   "outputs": [
    {
     "name": "stdout",
     "output_type": "stream",
     "text": [
      "0        01/01/1880 12:00:00 AM\n",
      "1                 1/1/1951 0:00\n",
      "2                 1/1/1952 0:00\n",
      "3                 1/1/1976 0:00\n",
      "4                 1/1/1902 0:00\n",
      "                  ...          \n",
      "45711             1/1/1990 0:00\n",
      "45712             1/1/1999 0:00\n",
      "45713             1/1/1939 0:00\n",
      "45714             1/1/2003 0:00\n",
      "45715             1/1/1976 0:00\n",
      "Name: year, Length: 45716, dtype: object\n"
     ]
    }
   ],
   "source": [
    "year_list = []\n",
    "\n",
    "print(landings.year)\n",
    "# landings['year_filled'] = landings['year'].fillna('01/01/0000 12:00:00 AM')\n",
    "\n",
    "# for entry in landings['year_filled']:\n",
    "#     year_list.append(int(entry[6:10]))"
   ]
  }
 ],
 "metadata": {
  "interpreter": {
   "hash": "23307798908c8a9e946608b3e939b3bcebc8e8621f7a89d72990d9b805e549ed"
  },
  "kernelspec": {
   "display_name": "Python 3.7.4 32-bit",
   "language": "python",
   "name": "python3"
  },
  "language_info": {
   "codemirror_mode": {
    "name": "ipython",
    "version": 3
   },
   "file_extension": ".py",
   "mimetype": "text/x-python",
   "name": "python",
   "nbconvert_exporter": "python",
   "pygments_lexer": "ipython3",
   "version": "3.7.4"
  },
  "orig_nbformat": 4
 },
 "nbformat": 4,
 "nbformat_minor": 2
}
